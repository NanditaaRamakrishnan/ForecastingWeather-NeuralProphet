{
  "nbformat": 4,
  "nbformat_minor": 0,
  "metadata": {
    "colab": {
      "provenance": [],
      "authorship_tag": "ABX9TyN1sRVnGFTfUISCtvPbYbBx"
    },
    "kernelspec": {
      "name": "python3",
      "display_name": "Python 3"
    },
    "language_info": {
      "name": "python"
    }
  },
  "cells": [
    {
      "cell_type": "markdown",
      "source": [
        "Import Depemdencies"
      ],
      "metadata": {
        "id": "3QdMN4OE1YH6"
      }
    },
    {
      "cell_type": "code",
      "execution_count": null,
      "metadata": {
        "id": "kl-J3Y9OArpH"
      },
      "outputs": [],
      "source": [
        "!pip install neuralprophet"
      ]
    },
    {
      "cell_type": "code",
      "source": [
        "import pandas as pd\n",
        "from neuralprophet import NeuralProphet\n",
        "from matplotlib import pyplot as plt\n",
        "import pickle"
      ],
      "metadata": {
        "id": "r34EwlWZQLJU"
      },
      "execution_count": null,
      "outputs": []
    },
    {
      "cell_type": "markdown",
      "source": [
        "Read in Data and process dates"
      ],
      "metadata": {
        "id": "kt6_B0yY3_BZ"
      }
    },
    {
      "cell_type": "code",
      "source": [
        "df = pd.read_csv('weatherAUS.csv')\n",
        "df.head()"
      ],
      "metadata": {
        "id": "TD6mEW9VQ-A7"
      },
      "execution_count": null,
      "outputs": []
    },
    {
      "cell_type": "code",
      "source": [
        "df.Location.unique()"
      ],
      "metadata": {
        "id": "0hhlS7P1RLM9"
      },
      "execution_count": null,
      "outputs": []
    },
    {
      "cell_type": "code",
      "source": [
        "df.columns"
      ],
      "metadata": {
        "id": "PM_3jgWNRLJG"
      },
      "execution_count": null,
      "outputs": []
    },
    {
      "cell_type": "code",
      "source": [
        "melb = df[df['Location']=='Melbourne']\n",
        "melb['Date'] = pd.to_datetime(melb['Date'])\n",
        "melb.head()"
      ],
      "metadata": {
        "id": "MCzGB7gPRLF4"
      },
      "execution_count": null,
      "outputs": []
    },
    {
      "cell_type": "code",
      "source": [
        "plt.plot(melb['Date'], melb['Temp3pm'])\n",
        "plt.show()"
      ],
      "metadata": {
        "id": "Z0BrK8UxRLC_"
      },
      "execution_count": null,
      "outputs": []
    },
    {
      "cell_type": "code",
      "source": [
        "melb['Year'] = melb['Date'].apply(lambda x: x.year)\n",
        "melb = melb[melb['Year']<=2015]\n",
        "plt.plot(melb['Date'], melb['Temp3pm'])\n",
        "plt.show()\n"
      ],
      "metadata": {
        "id": "ptG0ERkFRK_N"
      },
      "execution_count": null,
      "outputs": []
    },
    {
      "cell_type": "code",
      "source": [
        "data = melb[['Date', 'Temp3pm']] \n",
        "data.dropna(inplace=True)\n",
        "data.columns = ['ds', 'y'] \n",
        "data.head()"
      ],
      "metadata": {
        "id": "_rksh83vRK61"
      },
      "execution_count": null,
      "outputs": []
    },
    {
      "cell_type": "markdown",
      "source": [
        "Train Model"
      ],
      "metadata": {
        "id": "47MMmPih4FhS"
      }
    },
    {
      "cell_type": "code",
      "source": [
        "m = NeuralProphet()"
      ],
      "metadata": {
        "id": "qfpbPW95RK2_"
      },
      "execution_count": null,
      "outputs": []
    },
    {
      "cell_type": "code",
      "source": [
        "model = m.fit(data, freq='D', epochs=1000)"
      ],
      "metadata": {
        "id": "xCPawlKkRKom"
      },
      "execution_count": null,
      "outputs": []
    },
    {
      "cell_type": "markdown",
      "source": [
        "Forecast "
      ],
      "metadata": {
        "id": "k6MlhJls4IW4"
      }
    },
    {
      "cell_type": "code",
      "source": [
        "future = m.make_future_dataframe(data, periods=900)\n",
        "forecast = m.predict(future)\n",
        "forecast.head()"
      ],
      "metadata": {
        "id": "hHgUDU7-Ri0N"
      },
      "execution_count": null,
      "outputs": []
    },
    {
      "cell_type": "code",
      "source": [
        "plot1 = m.plot(forecast)"
      ],
      "metadata": {
        "id": "jnuOA8M5RiwN"
      },
      "execution_count": null,
      "outputs": []
    },
    {
      "cell_type": "code",
      "source": [
        "plt2 = m.plot_components(forecast)"
      ],
      "metadata": {
        "id": "LE_pCh6bRiqs"
      },
      "execution_count": null,
      "outputs": []
    },
    {
      "cell_type": "markdown",
      "source": [
        "Save Model"
      ],
      "metadata": {
        "id": "tmBndnWZ4Nso"
      }
    },
    {
      "cell_type": "code",
      "source": [
        "with open('saved_model.pkl', \"wb\") as f:\n",
        "    pickle.dump(m, f)"
      ],
      "metadata": {
        "id": "cppyktt9Rij9"
      },
      "execution_count": null,
      "outputs": []
    },
    {
      "cell_type": "code",
      "source": [
        "del m"
      ],
      "metadata": {
        "id": "2p6EP59xRtKc"
      },
      "execution_count": null,
      "outputs": []
    },
    {
      "cell_type": "code",
      "source": [
        "with open('saved_model.pkl', \"rb\") as f:\n",
        "    m = pickle.load(f)"
      ],
      "metadata": {
        "id": "hFKf4FYqRtGu"
      },
      "execution_count": null,
      "outputs": []
    },
    {
      "cell_type": "code",
      "source": [
        "future = m.make_future_dataframe(data, periods=900)\n",
        "forecast = m.predict(future)\n",
        "forecast.head()"
      ],
      "metadata": {
        "id": "5vzAy1jmRtDL"
      },
      "execution_count": null,
      "outputs": []
    },
    {
      "cell_type": "code",
      "source": [
        "plot1 = m.plot(forecast)"
      ],
      "metadata": {
        "id": "ns2RbosNR1lt"
      },
      "execution_count": null,
      "outputs": []
    }
  ]
}